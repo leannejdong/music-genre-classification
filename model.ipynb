{
 "cells": [
  {
   "cell_type": "markdown",
   "metadata": {},
   "source": [
    "## Analyse the data using pandas"
   ]
  },
  {
   "cell_type": "code",
   "execution_count": 127,
   "metadata": {},
   "outputs": [
    {
     "data": {
      "text/html": [
       "<div>\n",
       "<style scoped>\n",
       "    .dataframe tbody tr th:only-of-type {\n",
       "        vertical-align: middle;\n",
       "    }\n",
       "\n",
       "    .dataframe tbody tr th {\n",
       "        vertical-align: top;\n",
       "    }\n",
       "\n",
       "    .dataframe thead th {\n",
       "        text-align: right;\n",
       "    }\n",
       "</style>\n",
       "<table border=\"1\" class=\"dataframe\">\n",
       "  <thead>\n",
       "    <tr style=\"text-align: right;\">\n",
       "      <th></th>\n",
       "      <th>filename</th>\n",
       "      <th>chroma_stft</th>\n",
       "      <th>rmse</th>\n",
       "      <th>spectral_centroid</th>\n",
       "      <th>spectral_bandwidth</th>\n",
       "      <th>rolloff</th>\n",
       "      <th>zero_crossing_rate</th>\n",
       "      <th>mfcc1</th>\n",
       "      <th>mfcc2</th>\n",
       "      <th>mfcc3</th>\n",
       "      <th>...</th>\n",
       "      <th>mfcc12</th>\n",
       "      <th>mfcc13</th>\n",
       "      <th>mfcc14</th>\n",
       "      <th>mfcc15</th>\n",
       "      <th>mfcc16</th>\n",
       "      <th>mfcc17</th>\n",
       "      <th>mfcc18</th>\n",
       "      <th>mfcc19</th>\n",
       "      <th>mfcc20</th>\n",
       "      <th>label</th>\n",
       "    </tr>\n",
       "  </thead>\n",
       "  <tbody>\n",
       "    <tr>\n",
       "      <th>0</th>\n",
       "      <td>blues.00000.wav</td>\n",
       "      <td>0.349943</td>\n",
       "      <td>0.130225</td>\n",
       "      <td>1784.420446</td>\n",
       "      <td>2002.650192</td>\n",
       "      <td>3806.485316</td>\n",
       "      <td>0.083066</td>\n",
       "      <td>-113.596748</td>\n",
       "      <td>121.557297</td>\n",
       "      <td>-19.158825</td>\n",
       "      <td>...</td>\n",
       "      <td>8.810669</td>\n",
       "      <td>-3.667369</td>\n",
       "      <td>5.751690</td>\n",
       "      <td>-5.162763</td>\n",
       "      <td>0.750948</td>\n",
       "      <td>-1.691938</td>\n",
       "      <td>-0.409953</td>\n",
       "      <td>-2.300209</td>\n",
       "      <td>1.219929</td>\n",
       "      <td>blues</td>\n",
       "    </tr>\n",
       "    <tr>\n",
       "      <th>1</th>\n",
       "      <td>blues.00001.wav</td>\n",
       "      <td>0.340983</td>\n",
       "      <td>0.095918</td>\n",
       "      <td>1529.835316</td>\n",
       "      <td>2038.617579</td>\n",
       "      <td>3548.820207</td>\n",
       "      <td>0.056044</td>\n",
       "      <td>-207.556793</td>\n",
       "      <td>124.006721</td>\n",
       "      <td>8.930560</td>\n",
       "      <td>...</td>\n",
       "      <td>5.376802</td>\n",
       "      <td>-2.239120</td>\n",
       "      <td>4.216963</td>\n",
       "      <td>-6.012273</td>\n",
       "      <td>0.936110</td>\n",
       "      <td>-0.716537</td>\n",
       "      <td>0.293876</td>\n",
       "      <td>-0.287431</td>\n",
       "      <td>0.531574</td>\n",
       "      <td>blues</td>\n",
       "    </tr>\n",
       "    <tr>\n",
       "      <th>2</th>\n",
       "      <td>blues.00002.wav</td>\n",
       "      <td>0.363603</td>\n",
       "      <td>0.175573</td>\n",
       "      <td>1552.481958</td>\n",
       "      <td>1747.165985</td>\n",
       "      <td>3040.514948</td>\n",
       "      <td>0.076301</td>\n",
       "      <td>-90.754387</td>\n",
       "      <td>140.459915</td>\n",
       "      <td>-29.109968</td>\n",
       "      <td>...</td>\n",
       "      <td>5.789265</td>\n",
       "      <td>-8.905224</td>\n",
       "      <td>-1.083720</td>\n",
       "      <td>-9.218360</td>\n",
       "      <td>2.455806</td>\n",
       "      <td>-7.726901</td>\n",
       "      <td>-1.815723</td>\n",
       "      <td>-3.433434</td>\n",
       "      <td>-2.226821</td>\n",
       "      <td>blues</td>\n",
       "    </tr>\n",
       "    <tr>\n",
       "      <th>3</th>\n",
       "      <td>blues.00003.wav</td>\n",
       "      <td>0.404779</td>\n",
       "      <td>0.141191</td>\n",
       "      <td>1070.119953</td>\n",
       "      <td>1596.333948</td>\n",
       "      <td>2185.028454</td>\n",
       "      <td>0.033309</td>\n",
       "      <td>-199.431152</td>\n",
       "      <td>150.099213</td>\n",
       "      <td>5.647593</td>\n",
       "      <td>...</td>\n",
       "      <td>6.087676</td>\n",
       "      <td>-2.476421</td>\n",
       "      <td>-1.073890</td>\n",
       "      <td>-2.874778</td>\n",
       "      <td>0.780977</td>\n",
       "      <td>-3.316932</td>\n",
       "      <td>0.637981</td>\n",
       "      <td>-0.619690</td>\n",
       "      <td>-3.408233</td>\n",
       "      <td>blues</td>\n",
       "    </tr>\n",
       "    <tr>\n",
       "      <th>4</th>\n",
       "      <td>blues.00004.wav</td>\n",
       "      <td>0.308590</td>\n",
       "      <td>0.091563</td>\n",
       "      <td>1835.494603</td>\n",
       "      <td>1748.362448</td>\n",
       "      <td>3580.945013</td>\n",
       "      <td>0.101500</td>\n",
       "      <td>-160.266037</td>\n",
       "      <td>126.198807</td>\n",
       "      <td>-35.605450</td>\n",
       "      <td>...</td>\n",
       "      <td>-2.806384</td>\n",
       "      <td>-6.934123</td>\n",
       "      <td>-7.558618</td>\n",
       "      <td>-9.173553</td>\n",
       "      <td>-4.512165</td>\n",
       "      <td>-5.453538</td>\n",
       "      <td>-0.924161</td>\n",
       "      <td>-4.409333</td>\n",
       "      <td>-11.703781</td>\n",
       "      <td>blues</td>\n",
       "    </tr>\n",
       "  </tbody>\n",
       "</table>\n",
       "<p>5 rows × 28 columns</p>\n",
       "</div>"
      ],
      "text/plain": [
       "          filename  chroma_stft      rmse  spectral_centroid  \\\n",
       "0  blues.00000.wav     0.349943  0.130225        1784.420446   \n",
       "1  blues.00001.wav     0.340983  0.095918        1529.835316   \n",
       "2  blues.00002.wav     0.363603  0.175573        1552.481958   \n",
       "3  blues.00003.wav     0.404779  0.141191        1070.119953   \n",
       "4  blues.00004.wav     0.308590  0.091563        1835.494603   \n",
       "\n",
       "   spectral_bandwidth      rolloff  zero_crossing_rate       mfcc1  \\\n",
       "0         2002.650192  3806.485316            0.083066 -113.596748   \n",
       "1         2038.617579  3548.820207            0.056044 -207.556793   \n",
       "2         1747.165985  3040.514948            0.076301  -90.754387   \n",
       "3         1596.333948  2185.028454            0.033309 -199.431152   \n",
       "4         1748.362448  3580.945013            0.101500 -160.266037   \n",
       "\n",
       "        mfcc2      mfcc3  ...    mfcc12    mfcc13    mfcc14    mfcc15  \\\n",
       "0  121.557297 -19.158825  ...  8.810669 -3.667369  5.751690 -5.162763   \n",
       "1  124.006721   8.930560  ...  5.376802 -2.239120  4.216963 -6.012273   \n",
       "2  140.459915 -29.109968  ...  5.789265 -8.905224 -1.083720 -9.218360   \n",
       "3  150.099213   5.647593  ...  6.087676 -2.476421 -1.073890 -2.874778   \n",
       "4  126.198807 -35.605450  ... -2.806384 -6.934123 -7.558618 -9.173553   \n",
       "\n",
       "     mfcc16    mfcc17    mfcc18    mfcc19     mfcc20  label  \n",
       "0  0.750948 -1.691938 -0.409953 -2.300209   1.219929  blues  \n",
       "1  0.936110 -0.716537  0.293876 -0.287431   0.531574  blues  \n",
       "2  2.455806 -7.726901 -1.815723 -3.433434  -2.226821  blues  \n",
       "3  0.780977 -3.316932  0.637981 -0.619690  -3.408233  blues  \n",
       "4 -4.512165 -5.453538 -0.924161 -4.409333 -11.703781  blues  \n",
       "\n",
       "[5 rows x 28 columns]"
      ]
     },
     "execution_count": 127,
     "metadata": {},
     "output_type": "execute_result"
    }
   ],
   "source": [
    "import pandas as pd\n",
    "import numpy as np\n",
    "data = pd.read_csv('data.csv')\n",
    "data.head()"
   ]
  },
  {
   "cell_type": "code",
   "execution_count": 128,
   "metadata": {},
   "outputs": [
    {
     "data": {
      "text/plain": [
       "<seaborn.axisgrid.FacetGrid at 0x25402d555c0>"
      ]
     },
     "execution_count": 128,
     "metadata": {},
     "output_type": "execute_result"
    },
    {
     "data": {
      "image/png": "[encoded data removed]",
      "text/plain": [
       "<Figure size 360x360 with 1 Axes>"
      ]
     },
     "metadata": {},
     "output_type": "display_data"
    }
   ],
   "source": [
    "import seaborn as sns\n",
    "import matplotlib.pyplot as plt\n",
    "sns.set(style=\"ticks\", color_codes=True)\n",
    "sns.catplot(y= 'label', kind= 'count', data= data, palette = 'pastel')"
   ]
  },
  {
   "cell_type": "code",
   "execution_count": 129,
   "metadata": {},
   "outputs": [
    {
     "data": {
      "text/plain": [
       "(1000, 28)"
      ]
     },
     "execution_count": 129,
     "metadata": {},
     "output_type": "execute_result"
    }
   ],
   "source": [
    "data.shape"
   ]
  },
  {
   "cell_type": "code",
   "execution_count": 130,
   "metadata": {},
   "outputs": [],
   "source": [
    "data = data.drop(['filename'], axis=1) # drop name of the column which is unnecessary"
   ]
  },
  {
   "cell_type": "markdown",
   "metadata": {},
   "source": [
    "## Encoding the labels"
   ]
  },
  {
   "cell_type": "code",
   "execution_count": 131,
   "metadata": {},
   "outputs": [],
   "source": [
    "from sklearn.preprocessing import LabelEncoder, StandardScaler\n",
    "from sklearn.model_selection import train_test_split\n",
    "labels = data.iloc[:,-1]\n",
    "encoder = LabelEncoder()\n",
    "y = encoder.fit_transform(labels)"
   ]
  },
  {
   "cell_type": "markdown",
   "metadata": {},
   "source": [
    "## Scaling the feature columns"
   ]
  },
  {
   "cell_type": "code",
   "execution_count": 132,
   "metadata": {},
   "outputs": [],
   "source": [
    "scaler=StandardScaler()\n",
    "X = scaler.fit_transform(np.array(data.iloc[:, :-1], dtype = float))"
   ]
  },
  {
   "cell_type": "markdown",
   "metadata": {},
   "source": [
    "## split the dataset "
   ]
  },
  {
   "cell_type": "code",
   "execution_count": 133,
   "metadata": {},
   "outputs": [
    {
     "data": {
      "text/plain": [
       "26"
      ]
     },
     "execution_count": 133,
     "metadata": {},
     "output_type": "execute_result"
    }
   ],
   "source": [
    "train_x, test_x, train_y, test_y = train_test_split(X, y, test_size=0.2)\n",
    "train_x.shape, test_x.shape, train_y.shape, test_y.shape\n",
    "train_x.shape[1]"
   ]
  },
  {
   "cell_type": "code",
   "execution_count": 134,
   "metadata": {},
   "outputs": [
    {
     "data": {
      "text/plain": [
       "((800, 13, 2, 1), (200, 13, 2, 1), (800,), (200,))"
      ]
     },
     "execution_count": 134,
     "metadata": {},
     "output_type": "execute_result"
    }
   ],
   "source": [
    "#reshaping into 2d array\n",
    "train_x=np.reshape(train_x,(train_x.shape[0],13,2,1))\n",
    "test_x=np.reshape(test_x,(test_x.shape[0],13,2,1))\n",
    "train_x.shape, test_x.shape, train_y.shape, test_y.shape"
   ]
  },
  {
   "cell_type": "code",
   "execution_count": 135,
   "metadata": {},
   "outputs": [
    {
     "data": {
      "text/plain": [
       "array([[1., 0., 0., ..., 0., 0., 0.],\n",
       "       [0., 0., 0., ..., 0., 0., 0.],\n",
       "       [0., 0., 0., ..., 0., 0., 0.],\n",
       "       ...,\n",
       "       [0., 0., 0., ..., 1., 0., 0.],\n",
       "       [0., 0., 0., ..., 0., 0., 0.],\n",
       "       [0., 0., 0., ..., 0., 0., 1.]], dtype=float32)"
      ]
     },
     "execution_count": 135,
     "metadata": {},
     "output_type": "execute_result"
    }
   ],
   "source": [
    "from keras.utils.np_utils import to_categorical\n",
    "train_y=to_categorical(train_y, num_classes=10)\n",
    "test_y=to_categorical(test_y, num_classes=10)\n",
    "train_y.shape, test_y.shape\n",
    "train_y"
   ]
  },
  {
   "cell_type": "markdown",
   "metadata": {},
   "source": [
    "## Building our neural network"
   ]
  },
  {
   "cell_type": "code",
   "execution_count": 136,
   "metadata": {},
   "outputs": [],
   "source": [
    "from keras import Sequential\n",
    "# import BatchNormalization\n",
    "from keras.layers.normalization import BatchNormalization\n",
    "from keras.layers import Conv2D, Dense, MaxPooling2D, Flatten, Dropout\n",
    "model=Sequential()"
   ]
  },
  {
   "cell_type": "code",
   "execution_count": 137,
   "metadata": {},
   "outputs": [],
   "source": [
    "#adding layers and forming the model\n",
    "model.add(Conv2D(64,kernel_size=5,strides=1,padding=\"same\",activation=\"relu\",input_shape=(13,2,1)))\n",
    "model.add(MaxPooling2D(padding=\"same\"))\n",
    "\n",
    "model.add(Conv2D(128,kernel_size=5,strides=1,padding=\"same\",activation=\"relu\"))\n",
    "model.add(MaxPooling2D(padding=\"same\"))\n",
    "model.add(Dropout(0.2))\n",
    "\n",
    "model.add(Conv2D(256,kernel_size=5,strides=1,padding=\"same\",activation=\"relu\"))\n",
    "model.add(MaxPooling2D(padding=\"same\"))\n",
    "model.add(Dropout(0.2))\n",
    "\n",
    "model.add(Flatten())\n",
    "\n",
    "model.add(Dense(256,activation=\"relu\"))\n",
    "model.add(Dropout(0.2))\n",
    "\n",
    "model.add(Dense(512,activation=\"relu\"))\n",
    "# model.add(Dropout(0.35))\n",
    "\n",
    "model.add(Dense(10,activation=\"softmax\"))"
   ]
  },
  {
   "cell_type": "code",
   "execution_count": 138,
   "metadata": {},
   "outputs": [],
   "source": [
    "#compiling\n",
    "model.compile(optimizer=\"adam\",loss=\"categorical_crossentropy\",metrics=[\"accuracy\"])"
   ]
  },
  {
   "cell_type": "code",
   "execution_count": 139,
   "metadata": {},
   "outputs": [
    {
     "name": "stdout",
     "output_type": "stream",
     "text": [
      "Train on 800 samples, validate on 200 samples\n",
      "Epoch 1/100\n",
      "800/800 [==============================] - 1s 1ms/step - loss: 2.2714 - accuracy: 0.1762 - val_loss: 2.1143 - val_accuracy: 0.3000\n",
      "Epoch 2/100\n",
      "800/800 [==============================] - 1s 1ms/step - loss: 1.8991 - accuracy: 0.3200 - val_loss: 1.7145 - val_accuracy: 0.3450\n",
      "Epoch 3/100\n",
      "800/800 [==============================] - 1s 1ms/step - loss: 1.6918 - accuracy: 0.3600 - val_loss: 1.6262 - val_accuracy: 0.4200\n",
      "Epoch 4/100\n",
      "800/800 [==============================] - 1s 1ms/step - loss: 1.5681 - accuracy: 0.3963 - val_loss: 1.5610 - val_accuracy: 0.4150\n",
      "Epoch 5/100\n",
      "800/800 [==============================] - 1s 1ms/step - loss: 1.4880 - accuracy: 0.4400 - val_loss: 1.4730 - val_accuracy: 0.4400\n",
      "Epoch 6/100\n",
      "800/800 [==============================] - 1s 1ms/step - loss: 1.4272 - accuracy: 0.4663 - val_loss: 1.4703 - val_accuracy: 0.4350\n",
      "Epoch 7/100\n",
      "800/800 [==============================] - 1s 1ms/step - loss: 1.3559 - accuracy: 0.4900 - val_loss: 1.4245 - val_accuracy: 0.5000\n",
      "Epoch 8/100\n",
      "800/800 [==============================] - 1s 1ms/step - loss: 1.3973 - accuracy: 0.4787 - val_loss: 1.4357 - val_accuracy: 0.4850\n",
      "Epoch 9/100\n",
      "800/800 [==============================] - 1s 1ms/step - loss: 1.2668 - accuracy: 0.5412 - val_loss: 1.4142 - val_accuracy: 0.5150\n",
      "Epoch 10/100\n",
      "800/800 [==============================] - 1s 1ms/step - loss: 1.1915 - accuracy: 0.5500 - val_loss: 1.3992 - val_accuracy: 0.4950\n",
      "Epoch 11/100\n",
      "800/800 [==============================] - 1s 1ms/step - loss: 1.1495 - accuracy: 0.5713 - val_loss: 1.3750 - val_accuracy: 0.5200\n",
      "Epoch 12/100\n",
      "800/800 [==============================] - 1s 1ms/step - loss: 1.1241 - accuracy: 0.5775 - val_loss: 1.3658 - val_accuracy: 0.5150\n",
      "Epoch 13/100\n",
      "800/800 [==============================] - 1s 1ms/step - loss: 1.0684 - accuracy: 0.6200 - val_loss: 1.3866 - val_accuracy: 0.5250\n",
      "Epoch 14/100\n",
      "800/800 [==============================] - 1s 1ms/step - loss: 1.0763 - accuracy: 0.6200 - val_loss: 1.3433 - val_accuracy: 0.5550\n",
      "Epoch 15/100\n",
      "800/800 [==============================] - 1s 1ms/step - loss: 0.9431 - accuracy: 0.6500 - val_loss: 1.3191 - val_accuracy: 0.6100\n",
      "Epoch 16/100\n",
      "800/800 [==============================] - 1s 1ms/step - loss: 0.9558 - accuracy: 0.6538 - val_loss: 1.3719 - val_accuracy: 0.5550\n",
      "Epoch 17/100\n",
      "800/800 [==============================] - 1s 1ms/step - loss: 0.9020 - accuracy: 0.6725 - val_loss: 1.3670 - val_accuracy: 0.5650\n",
      "Epoch 18/100\n",
      "800/800 [==============================] - 1s 1ms/step - loss: 0.9416 - accuracy: 0.6375 - val_loss: 1.2754 - val_accuracy: 0.5900\n",
      "Epoch 19/100\n",
      "800/800 [==============================] - 1s 1ms/step - loss: 0.8482 - accuracy: 0.6988 - val_loss: 1.3571 - val_accuracy: 0.5700\n",
      "Epoch 20/100\n",
      "800/800 [==============================] - 1s 1ms/step - loss: 0.7988 - accuracy: 0.7100 - val_loss: 1.3210 - val_accuracy: 0.5650\n",
      "Epoch 21/100\n",
      "800/800 [==============================] - 1s 1ms/step - loss: 0.7782 - accuracy: 0.7075 - val_loss: 1.3165 - val_accuracy: 0.5750\n",
      "Epoch 22/100\n",
      "800/800 [==============================] - 1s 1ms/step - loss: 0.7324 - accuracy: 0.7362 - val_loss: 1.2805 - val_accuracy: 0.6050\n",
      "Epoch 23/100\n",
      "800/800 [==============================] - 1s 1ms/step - loss: 0.6908 - accuracy: 0.7487 - val_loss: 1.3855 - val_accuracy: 0.5950\n",
      "Epoch 24/100\n",
      "800/800 [==============================] - 1s 1ms/step - loss: 0.6439 - accuracy: 0.7575 - val_loss: 1.3220 - val_accuracy: 0.6000\n",
      "Epoch 25/100\n",
      "800/800 [==============================] - 1s 1ms/step - loss: 0.6134 - accuracy: 0.7850 - val_loss: 1.3894 - val_accuracy: 0.5800\n",
      "Epoch 26/100\n",
      "800/800 [==============================] - 1s 1ms/step - loss: 0.6001 - accuracy: 0.7850 - val_loss: 1.3106 - val_accuracy: 0.6150\n",
      "Epoch 27/100\n",
      "800/800 [==============================] - 1s 1ms/step - loss: 0.6050 - accuracy: 0.7812 - val_loss: 1.4591 - val_accuracy: 0.5900\n",
      "Epoch 28/100\n",
      "800/800 [==============================] - 1s 1ms/step - loss: 0.5441 - accuracy: 0.8012 - val_loss: 1.4160 - val_accuracy: 0.5850\n",
      "Epoch 29/100\n",
      "800/800 [==============================] - 1s 1ms/step - loss: 0.5352 - accuracy: 0.8050 - val_loss: 1.4131 - val_accuracy: 0.5650\n",
      "Epoch 30/100\n",
      "800/800 [==============================] - 1s 1ms/step - loss: 0.4730 - accuracy: 0.8475 - val_loss: 1.3268 - val_accuracy: 0.6200\n",
      "Epoch 31/100\n",
      "800/800 [==============================] - 1s 1ms/step - loss: 0.4497 - accuracy: 0.8400 - val_loss: 1.5138 - val_accuracy: 0.6000\n",
      "Epoch 32/100\n",
      "800/800 [==============================] - 1s 1ms/step - loss: 0.4065 - accuracy: 0.8462 - val_loss: 1.5370 - val_accuracy: 0.6300\n",
      "Epoch 33/100\n",
      "800/800 [==============================] - 1s 1ms/step - loss: 0.3709 - accuracy: 0.8788 - val_loss: 1.5681 - val_accuracy: 0.6250\n",
      "Epoch 34/100\n",
      "800/800 [==============================] - 1s 1ms/step - loss: 0.3458 - accuracy: 0.8788 - val_loss: 1.4481 - val_accuracy: 0.6400\n",
      "Epoch 35/100\n",
      "800/800 [==============================] - 1s 1ms/step - loss: 0.3199 - accuracy: 0.8863 - val_loss: 1.6409 - val_accuracy: 0.6200\n",
      "Epoch 36/100\n",
      "800/800 [==============================] - 1s 1ms/step - loss: 0.3184 - accuracy: 0.8938 - val_loss: 1.6826 - val_accuracy: 0.6150\n",
      "Epoch 37/100\n",
      "800/800 [==============================] - 1s 1ms/step - loss: 0.3600 - accuracy: 0.8725 - val_loss: 1.6296 - val_accuracy: 0.6300\n",
      "Epoch 38/100\n",
      "800/800 [==============================] - 1s 1ms/step - loss: 0.3150 - accuracy: 0.8975 - val_loss: 1.5993 - val_accuracy: 0.6400\n",
      "Epoch 39/100\n",
      "800/800 [==============================] - 1s 1ms/step - loss: 0.2765 - accuracy: 0.8988 - val_loss: 1.7256 - val_accuracy: 0.6450\n",
      "Epoch 40/100\n",
      "800/800 [==============================] - 1s 1ms/step - loss: 0.2502 - accuracy: 0.9062 - val_loss: 1.6397 - val_accuracy: 0.6500\n",
      "Epoch 41/100\n",
      "800/800 [==============================] - 1s 1ms/step - loss: 0.2166 - accuracy: 0.9350 - val_loss: 1.8144 - val_accuracy: 0.6300\n",
      "Epoch 42/100\n",
      "800/800 [==============================] - 1s 1ms/step - loss: 0.2622 - accuracy: 0.9087 - val_loss: 1.8890 - val_accuracy: 0.5800\n",
      "Epoch 43/100\n",
      "800/800 [==============================] - 1s 1ms/step - loss: 0.2430 - accuracy: 0.9262 - val_loss: 1.7471 - val_accuracy: 0.6100\n",
      "Epoch 44/100\n",
      "800/800 [==============================] - 1s 1ms/step - loss: 0.2632 - accuracy: 0.9038 - val_loss: 1.6969 - val_accuracy: 0.6050\n",
      "Epoch 45/100\n",
      "800/800 [==============================] - 1s 1ms/step - loss: 0.1577 - accuracy: 0.9463 - val_loss: 1.7525 - val_accuracy: 0.6400\n",
      "Epoch 46/100\n",
      "800/800 [==============================] - 1s 1ms/step - loss: 0.1240 - accuracy: 0.9575 - val_loss: 1.9927 - val_accuracy: 0.6250\n",
      "Epoch 47/100\n",
      "800/800 [==============================] - 1s 1ms/step - loss: 0.1794 - accuracy: 0.9362 - val_loss: 1.8835 - val_accuracy: 0.6300\n",
      "Epoch 48/100\n",
      "800/800 [==============================] - 1s 1ms/step - loss: 0.1628 - accuracy: 0.9450 - val_loss: 2.0595 - val_accuracy: 0.6200\n",
      "Epoch 49/100\n",
      "800/800 [==============================] - 1s 1ms/step - loss: 0.1814 - accuracy: 0.9400 - val_loss: 1.7781 - val_accuracy: 0.6300\n",
      "Epoch 50/100\n",
      "800/800 [==============================] - 1s 1ms/step - loss: 0.1234 - accuracy: 0.9700 - val_loss: 1.8381 - val_accuracy: 0.6300\n",
      "Epoch 51/100\n",
      "800/800 [==============================] - 1s 1ms/step - loss: 0.0973 - accuracy: 0.9725 - val_loss: 1.8915 - val_accuracy: 0.6800\n",
      "Epoch 52/100\n",
      "800/800 [==============================] - 1s 1ms/step - loss: 0.0866 - accuracy: 0.9725 - val_loss: 2.0609 - val_accuracy: 0.6200\n",
      "Epoch 53/100\n",
      "800/800 [==============================] - 1s 1ms/step - loss: 0.1385 - accuracy: 0.9575 - val_loss: 2.1082 - val_accuracy: 0.6200\n",
      "Epoch 54/100\n",
      "800/800 [==============================] - 1s 1ms/step - loss: 0.1385 - accuracy: 0.9375 - val_loss: 2.1364 - val_accuracy: 0.6250\n",
      "Epoch 55/100\n",
      "800/800 [==============================] - 1s 1ms/step - loss: 0.1220 - accuracy: 0.9575 - val_loss: 2.0355 - val_accuracy: 0.6500\n",
      "Epoch 56/100\n",
      "800/800 [==============================] - 1s 1ms/step - loss: 0.1086 - accuracy: 0.9675 - val_loss: 2.0340 - val_accuracy: 0.6300\n",
      "Epoch 57/100\n"
     ]
    },
    {
     "name": "stdout",
     "output_type": "stream",
     "text": [
      "800/800 [==============================] - 1s 1ms/step - loss: 0.0951 - accuracy: 0.9663 - val_loss: 2.0437 - val_accuracy: 0.6250\n",
      "Epoch 58/100\n",
      "800/800 [==============================] - 1s 1ms/step - loss: 0.1234 - accuracy: 0.9513 - val_loss: 2.1655 - val_accuracy: 0.6700\n",
      "Epoch 59/100\n",
      "800/800 [==============================] - 1s 1ms/step - loss: 0.1131 - accuracy: 0.9650 - val_loss: 2.0376 - val_accuracy: 0.6450\n",
      "Epoch 60/100\n",
      "800/800 [==============================] - 1s 1ms/step - loss: 0.0695 - accuracy: 0.9750 - val_loss: 2.0507 - val_accuracy: 0.6450\n",
      "Epoch 61/100\n",
      "800/800 [==============================] - 1s 1ms/step - loss: 0.0614 - accuracy: 0.9825 - val_loss: 2.1768 - val_accuracy: 0.6550\n",
      "Epoch 62/100\n",
      "800/800 [==============================] - 1s 1ms/step - loss: 0.0926 - accuracy: 0.9675 - val_loss: 2.1724 - val_accuracy: 0.6800\n",
      "Epoch 63/100\n",
      "800/800 [==============================] - 1s 1ms/step - loss: 0.1022 - accuracy: 0.9700 - val_loss: 2.1259 - val_accuracy: 0.6600\n",
      "Epoch 64/100\n",
      "800/800 [==============================] - 1s 1ms/step - loss: 0.0847 - accuracy: 0.9775 - val_loss: 1.9503 - val_accuracy: 0.6550\n",
      "Epoch 65/100\n",
      "800/800 [==============================] - 1s 1ms/step - loss: 0.0558 - accuracy: 0.9812 - val_loss: 2.0069 - val_accuracy: 0.6550\n",
      "Epoch 66/100\n",
      "800/800 [==============================] - 1s 1ms/step - loss: 0.0860 - accuracy: 0.9762 - val_loss: 2.1006 - val_accuracy: 0.6650\n",
      "Epoch 67/100\n",
      "800/800 [==============================] - 1s 1ms/step - loss: 0.0777 - accuracy: 0.9737 - val_loss: 2.1300 - val_accuracy: 0.6500\n",
      "Epoch 68/100\n",
      "800/800 [==============================] - 1s 1ms/step - loss: 0.1003 - accuracy: 0.9737 - val_loss: 2.0276 - val_accuracy: 0.6650\n",
      "Epoch 69/100\n",
      "800/800 [==============================] - 1s 1ms/step - loss: 0.0807 - accuracy: 0.9775 - val_loss: 2.0809 - val_accuracy: 0.6200\n",
      "Epoch 70/100\n",
      "800/800 [==============================] - 1s 1ms/step - loss: 0.0646 - accuracy: 0.9737 - val_loss: 2.1879 - val_accuracy: 0.6550\n",
      "Epoch 71/100\n",
      "800/800 [==============================] - 1s 1ms/step - loss: 0.0490 - accuracy: 0.9850 - val_loss: 2.3989 - val_accuracy: 0.6450\n",
      "Epoch 72/100\n",
      "800/800 [==============================] - 1s 1ms/step - loss: 0.0546 - accuracy: 0.9850 - val_loss: 2.2117 - val_accuracy: 0.6450\n",
      "Epoch 73/100\n",
      "800/800 [==============================] - 1s 1ms/step - loss: 0.0500 - accuracy: 0.9875 - val_loss: 2.2598 - val_accuracy: 0.6650\n",
      "Epoch 74/100\n",
      "800/800 [==============================] - 1s 1ms/step - loss: 0.0891 - accuracy: 0.9638 - val_loss: 2.0014 - val_accuracy: 0.6600\n",
      "Epoch 75/100\n",
      "800/800 [==============================] - 1s 1ms/step - loss: 0.0870 - accuracy: 0.9700 - val_loss: 2.0930 - val_accuracy: 0.6400\n",
      "Epoch 76/100\n",
      "800/800 [==============================] - 1s 1ms/step - loss: 0.0540 - accuracy: 0.9850 - val_loss: 2.1086 - val_accuracy: 0.6550\n",
      "Epoch 77/100\n",
      "800/800 [==============================] - 1s 1ms/step - loss: 0.0476 - accuracy: 0.9862 - val_loss: 2.1876 - val_accuracy: 0.6550\n",
      "Epoch 78/100\n",
      "800/800 [==============================] - 1s 1ms/step - loss: 0.0378 - accuracy: 0.9900 - val_loss: 2.1370 - val_accuracy: 0.6500\n",
      "Epoch 79/100\n",
      "800/800 [==============================] - 1s 1ms/step - loss: 0.0381 - accuracy: 0.9862 - val_loss: 2.3089 - val_accuracy: 0.6250\n",
      "Epoch 80/100\n",
      "800/800 [==============================] - 1s 1ms/step - loss: 0.0362 - accuracy: 0.9900 - val_loss: 2.3243 - val_accuracy: 0.6600\n",
      "Epoch 81/100\n",
      "800/800 [==============================] - 1s 1ms/step - loss: 0.0340 - accuracy: 0.9850 - val_loss: 2.3064 - val_accuracy: 0.6400\n",
      "Epoch 82/100\n",
      "800/800 [==============================] - 1s 1ms/step - loss: 0.0245 - accuracy: 0.9925 - val_loss: 2.4358 - val_accuracy: 0.6700\n",
      "Epoch 83/100\n",
      "800/800 [==============================] - 1s 1ms/step - loss: 0.0251 - accuracy: 0.9912 - val_loss: 2.7379 - val_accuracy: 0.6400\n",
      "Epoch 84/100\n",
      "800/800 [==============================] - 1s 1ms/step - loss: 0.0272 - accuracy: 0.9962 - val_loss: 2.7586 - val_accuracy: 0.6750\n",
      "Epoch 85/100\n",
      "800/800 [==============================] - 1s 1ms/step - loss: 0.0418 - accuracy: 0.9875 - val_loss: 2.5239 - val_accuracy: 0.6150\n",
      "Epoch 86/100\n",
      "800/800 [==============================] - 1s 1ms/step - loss: 0.0213 - accuracy: 0.9900 - val_loss: 2.6171 - val_accuracy: 0.6400\n",
      "Epoch 87/100\n",
      "800/800 [==============================] - 1s 1ms/step - loss: 0.0349 - accuracy: 0.9875 - val_loss: 2.3554 - val_accuracy: 0.6650\n",
      "Epoch 88/100\n",
      "800/800 [==============================] - 1s 1ms/step - loss: 0.0394 - accuracy: 0.9837 - val_loss: 2.4021 - val_accuracy: 0.6650\n",
      "Epoch 89/100\n",
      "800/800 [==============================] - 1s 1ms/step - loss: 0.0344 - accuracy: 0.9887 - val_loss: 2.6668 - val_accuracy: 0.6350\n",
      "Epoch 90/100\n",
      "800/800 [==============================] - 1s 1ms/step - loss: 0.0275 - accuracy: 0.9925 - val_loss: 2.6132 - val_accuracy: 0.6400\n",
      "Epoch 91/100\n",
      "800/800 [==============================] - 1s 1ms/step - loss: 0.0385 - accuracy: 0.9825 - val_loss: 2.5954 - val_accuracy: 0.6700\n",
      "Epoch 92/100\n",
      "800/800 [==============================] - 1s 1ms/step - loss: 0.0269 - accuracy: 0.9912 - val_loss: 2.4187 - val_accuracy: 0.6500\n",
      "Epoch 93/100\n",
      "800/800 [==============================] - 1s 1ms/step - loss: 0.0458 - accuracy: 0.9837 - val_loss: 2.5644 - val_accuracy: 0.6750\n",
      "Epoch 94/100\n",
      "800/800 [==============================] - 1s 1ms/step - loss: 0.0423 - accuracy: 0.9875 - val_loss: 2.4886 - val_accuracy: 0.6400\n",
      "Epoch 95/100\n",
      "800/800 [==============================] - 1s 1ms/step - loss: 0.0267 - accuracy: 0.9925 - val_loss: 2.5574 - val_accuracy: 0.6700\n",
      "Epoch 96/100\n",
      "800/800 [==============================] - 1s 1ms/step - loss: 0.0350 - accuracy: 0.9900 - val_loss: 2.4198 - val_accuracy: 0.6600\n",
      "Epoch 97/100\n",
      "800/800 [==============================] - 1s 1ms/step - loss: 0.0694 - accuracy: 0.9762 - val_loss: 2.7950 - val_accuracy: 0.6100\n",
      "Epoch 98/100\n",
      "800/800 [==============================] - 1s 1ms/step - loss: 0.1011 - accuracy: 0.9638 - val_loss: 2.2800 - val_accuracy: 0.6600\n",
      "Epoch 99/100\n",
      "800/800 [==============================] - 1s 1ms/step - loss: 0.0552 - accuracy: 0.9775 - val_loss: 2.4099 - val_accuracy: 0.6350\n",
      "Epoch 100/100\n",
      "800/800 [==============================] - 1s 1ms/step - loss: 0.0498 - accuracy: 0.9887 - val_loss: 2.1420 - val_accuracy: 0.6500\n"
     ]
    },
    {
     "data": {
      "text/plain": [
       "<keras.callbacks.callbacks.History at 0x25407600fd0>"
      ]
     },
     "execution_count": 139,
     "metadata": {},
     "output_type": "execute_result"
    }
   ],
   "source": [
    "#training the model\n",
    "model.fit(train_x,train_y,batch_size=64,epochs=100,validation_data=(test_x,test_y))"
   ]
  },
  {
   "cell_type": "code",
   "execution_count": null,
   "metadata": {},
   "outputs": [],
   "source": []
  }
 ],
 "metadata": {
  "kernelspec": {
   "display_name": "Python 3",
   "language": "python",
   "name": "python3"
  },
  "language_info": {
   "codemirror_mode": {
    "name": "ipython",
    "version": 3
   },
   "file_extension": ".py",
   "mimetype": "text/x-python",
   "name": "python",
   "nbconvert_exporter": "python",
   "pygments_lexer": "ipython3",
   "version": "3.6.7"
  }
 },
 "nbformat": 4,
 "nbformat_minor": 2
}
